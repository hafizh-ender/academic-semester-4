{
 "cells": [
  {
   "cell_type": "code",
   "execution_count": 74,
   "metadata": {},
   "outputs": [],
   "source": [
    "# Import libraries\n",
    "import pandas as pd\n",
    "import numpy as np\n",
    "from scipy import stats\n",
    "from statsmodels.stats import weightstats as stests\n",
    "import matplotlib.pyplot as plt\n",
    "plt.rcParams.update({'font.size': 15})\n",
    "from mpl_toolkits.mplot3d import Axes3D\n",
    "import io"
   ]
  },
  {
   "cell_type": "code",
   "execution_count": 76,
   "metadata": {},
   "outputs": [],
   "source": [
    "# Import data\n",
    "ads = pd.read_csv('data\\Advertising_2D.csv', index_col=0)"
   ]
  },
  {
   "cell_type": "code",
   "execution_count": 77,
   "metadata": {},
   "outputs": [
    {
     "data": {
      "text/html": [
       "<div>\n",
       "<style scoped>\n",
       "    .dataframe tbody tr th:only-of-type {\n",
       "        vertical-align: middle;\n",
       "    }\n",
       "\n",
       "    .dataframe tbody tr th {\n",
       "        vertical-align: top;\n",
       "    }\n",
       "\n",
       "    .dataframe thead th {\n",
       "        text-align: right;\n",
       "    }\n",
       "</style>\n",
       "<table border=\"1\" class=\"dataframe\">\n",
       "  <thead>\n",
       "    <tr style=\"text-align: right;\">\n",
       "      <th></th>\n",
       "      <th>TV</th>\n",
       "      <th>radio</th>\n",
       "      <th>sales</th>\n",
       "    </tr>\n",
       "  </thead>\n",
       "  <tbody>\n",
       "    <tr>\n",
       "      <th>1</th>\n",
       "      <td>230.1</td>\n",
       "      <td>37.8</td>\n",
       "      <td>22.1</td>\n",
       "    </tr>\n",
       "    <tr>\n",
       "      <th>2</th>\n",
       "      <td>44.5</td>\n",
       "      <td>39.3</td>\n",
       "      <td>10.4</td>\n",
       "    </tr>\n",
       "    <tr>\n",
       "      <th>3</th>\n",
       "      <td>17.2</td>\n",
       "      <td>45.9</td>\n",
       "      <td>9.3</td>\n",
       "    </tr>\n",
       "    <tr>\n",
       "      <th>4</th>\n",
       "      <td>151.5</td>\n",
       "      <td>41.3</td>\n",
       "      <td>18.5</td>\n",
       "    </tr>\n",
       "    <tr>\n",
       "      <th>5</th>\n",
       "      <td>180.8</td>\n",
       "      <td>10.8</td>\n",
       "      <td>12.9</td>\n",
       "    </tr>\n",
       "    <tr>\n",
       "      <th>...</th>\n",
       "      <td>...</td>\n",
       "      <td>...</td>\n",
       "      <td>...</td>\n",
       "    </tr>\n",
       "    <tr>\n",
       "      <th>196</th>\n",
       "      <td>38.2</td>\n",
       "      <td>3.7</td>\n",
       "      <td>7.6</td>\n",
       "    </tr>\n",
       "    <tr>\n",
       "      <th>197</th>\n",
       "      <td>94.2</td>\n",
       "      <td>4.9</td>\n",
       "      <td>9.7</td>\n",
       "    </tr>\n",
       "    <tr>\n",
       "      <th>198</th>\n",
       "      <td>177.0</td>\n",
       "      <td>9.3</td>\n",
       "      <td>12.8</td>\n",
       "    </tr>\n",
       "    <tr>\n",
       "      <th>199</th>\n",
       "      <td>283.6</td>\n",
       "      <td>42.0</td>\n",
       "      <td>25.5</td>\n",
       "    </tr>\n",
       "    <tr>\n",
       "      <th>200</th>\n",
       "      <td>232.1</td>\n",
       "      <td>8.6</td>\n",
       "      <td>13.4</td>\n",
       "    </tr>\n",
       "  </tbody>\n",
       "</table>\n",
       "<p>200 rows × 3 columns</p>\n",
       "</div>"
      ],
      "text/plain": [
       "        TV  radio  sales\n",
       "1    230.1   37.8   22.1\n",
       "2     44.5   39.3   10.4\n",
       "3     17.2   45.9    9.3\n",
       "4    151.5   41.3   18.5\n",
       "5    180.8   10.8   12.9\n",
       "..     ...    ...    ...\n",
       "196   38.2    3.7    7.6\n",
       "197   94.2    4.9    9.7\n",
       "198  177.0    9.3   12.8\n",
       "199  283.6   42.0   25.5\n",
       "200  232.1    8.6   13.4\n",
       "\n",
       "[200 rows x 3 columns]"
      ]
     },
     "execution_count": 77,
     "metadata": {},
     "output_type": "execute_result"
    }
   ],
   "source": [
    "ads"
   ]
  },
  {
   "cell_type": "code",
   "execution_count": 78,
   "metadata": {},
   "outputs": [
    {
     "name": "stdout",
     "output_type": "stream",
     "text": [
      "Coefficients: \n",
      " [0.04575482 0.18799423]\n",
      "Intercept: \n",
      " 2.9210999124051362\n"
     ]
    }
   ],
   "source": [
    "from sklearn.linear_model import LinearRegression\n",
    "\n",
    "# Create linear regression object\n",
    "lr = LinearRegression()\n",
    "\n",
    "X = ads[['TV', 'radio']]\n",
    "y = ads['sales']\n",
    "\n",
    "# Train the model using the training sets\n",
    "lr.fit(X, y)\n",
    "\n",
    "# Make predictions using the testing set\n",
    "y_pred_lr = lr.predict(X)\n",
    "\n",
    "# The coefficients\n",
    "print('Coefficients: \\n', lr.coef_)\n",
    "\n",
    "# The intercept\n",
    "print('Intercept: \\n', lr.intercept_)"
   ]
  },
  {
   "cell_type": "code",
   "execution_count": 79,
   "metadata": {},
   "outputs": [],
   "source": [
    "# Using KNN\n",
    "from sklearn.neighbors import KNeighborsRegressor\n",
    "\n",
    "# Scale the data\n",
    "from sklearn.preprocessing import MinMaxScaler\n",
    "\n",
    "scaler = MinMaxScaler()\n",
    "\n",
    "X_scaled = scaler.fit_transform(X)\n",
    "\n",
    "# Create KNN regression object\n",
    "knn = KNeighborsRegressor(n_neighbors=5)\n",
    "\n",
    "# Train the model using the training sets\n",
    "knn.fit(X_scaled, y)\n",
    "\n",
    "# Make predictions using the testing set\n",
    "y_pred_knn = knn.predict(X_scaled)"
   ]
  },
  {
   "cell_type": "code",
   "execution_count": 80,
   "metadata": {},
   "outputs": [],
   "source": [
    "# Using random forest\n",
    "from sklearn.ensemble import RandomForestRegressor\n",
    "\n",
    "# Create random forest object\n",
    "rfr = RandomForestRegressor(n_estimators=100, random_state=0, n_jobs=-1)\n",
    "\n",
    "# Train the model using the training sets\n",
    "rfr.fit(X, y)\n",
    "\n",
    "# Make predictions using the testing set\n",
    "y_pred_rf = rfr.predict(X)"
   ]
  },
  {
   "cell_type": "code",
   "execution_count": 81,
   "metadata": {},
   "outputs": [],
   "source": [
    "# Using XGBoost\n",
    "from xgboost import XGBRegressor\n",
    "\n",
    "# Create XGBoost object\n",
    "xgbr = XGBRegressor(n_estimators=100, random_state=0, n_jobs=-1)\n",
    "\n",
    "# Train the model using the training sets\n",
    "xgbr.fit(X, y)\n",
    "\n",
    "# Make predictions using the testing set\n",
    "y_pred_xgb = xgbr.predict(X)"
   ]
  },
  {
   "cell_type": "code",
   "execution_count": 82,
   "metadata": {},
   "outputs": [],
   "source": [
    "# Compare the results\n",
    "from sklearn.metrics import mean_squared_error, r2_score\n",
    "\n",
    "# The mean squared error for linear regression\n",
    "mean_squared_lr = mean_squared_error(y, y_pred_lr)\n",
    "\n",
    "# The mean squared error for KNN\n",
    "mean_squared_knn = mean_squared_error(y, y_pred_knn)\n",
    "\n",
    "# The mean squared error for random forest\n",
    "mean_squared_rf = mean_squared_error(y, y_pred_rf)\n",
    "\n",
    "# The mean squared error for XGBoost\n",
    "mean_squared_xgb = mean_squared_error(y, y_pred_xgb)"
   ]
  },
  {
   "cell_type": "code",
   "execution_count": 83,
   "metadata": {},
   "outputs": [],
   "source": [
    "# The coefficient of determination: 1 is perfect prediction\n",
    "r2_lr = r2_score(y, y_pred_lr)\n",
    "\n",
    "# The coefficient of determination: 1 is perfect prediction\n",
    "r2_knn = r2_score(y, y_pred_knn)\n",
    "\n",
    "# The coefficient of determination: 1 is perfect prediction\n",
    "r2_rf = r2_score(y, y_pred_rf)\n",
    "\n",
    "# The coefficient of determination: 1 is perfect prediction\n",
    "r2_xgb = r2_score(y, y_pred_xgb)"
   ]
  },
  {
   "cell_type": "code",
   "execution_count": 84,
   "metadata": {},
   "outputs": [
    {
     "data": {
      "text/plain": [
       "(2.784569900338091,\n",
       " 0.7915090000000002,\n",
       " 0.060832044999999904,\n",
       " 0.00018641553664815652,\n",
       " 0.8971942610828957,\n",
       " 0.9707776530965667,\n",
       " 0.9977540936087458,\n",
       " 0.9999931175773363)"
      ]
     },
     "execution_count": 84,
     "metadata": {},
     "output_type": "execute_result"
    }
   ],
   "source": [
    "# Print the results\n",
    "mean_squared_lr, mean_squared_knn, mean_squared_rf, mean_squared_xgb, r2_lr, r2_knn, r2_rf, r2_xgb"
   ]
  },
  {
   "cell_type": "code",
   "execution_count": 86,
   "metadata": {},
   "outputs": [],
   "source": [
    "univ_score = pd.read_csv('data/univ_score.csv', index_col=0)"
   ]
  },
  {
   "cell_type": "code",
   "execution_count": 85,
   "metadata": {},
   "outputs": [],
   "source": [
    "# Using random forest classifier\n",
    "from sklearn.ensemble import RandomForestClassifier\n",
    "\n"
   ]
  }
 ],
 "metadata": {
  "kernelspec": {
   "display_name": "Python 3",
   "language": "python",
   "name": "python3"
  },
  "language_info": {
   "codemirror_mode": {
    "name": "ipython",
    "version": 3
   },
   "file_extension": ".py",
   "mimetype": "text/x-python",
   "name": "python",
   "nbconvert_exporter": "python",
   "pygments_lexer": "ipython3",
   "version": "3.10.10"
  },
  "orig_nbformat": 4
 },
 "nbformat": 4,
 "nbformat_minor": 2
}
